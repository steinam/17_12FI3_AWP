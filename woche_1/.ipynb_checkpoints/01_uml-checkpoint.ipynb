{
 "cells": [
  {
   "cell_type": "markdown",
   "metadata": {},
   "source": [
    "# Historische Entwicklung"
   ]
  },
  {
   "cell_type": "markdown",
   "metadata": {},
   "source": [
    "Mit Beginn der objektorientierten Programmierung in den 90er Jahren wurden parallel verschiedene Notationsmodelle entwickelt.\n",
    "Aus dieser Vielfalt wurden die Ideen mehrerer führender Personen (Booch, Rumbaugh, Jacobson) durch die Firma Rational vereinigt und eine gemeinsame Notationssyntax entwickelt (Unified Modelling Language). Sie wurde Ende der 90er Jahre als UML 1.0 verabschiedet und hat sich seitdem an die Weiterentwicklung der Programmiersprachen kontinuierlich angepasst.\n",
    "Mit der UML 2.0 wurden viele neue Diagrammarten eingeführt und manche in ihrer Bedeutung und Aussage verändert.\n",
    "\n",
    "Die Unified Modelling Language Notation ist eine Modellierungssprache zur **Spezifikation, Konstruktion und Dokumentation von Software-Teilen und anderen Systemen**. \n",
    "\n",
    "Es ist eine vereinheitliche Notation über den gesamten Software- und Produktlebenszyklus zum Vermeiden von Fehlinterpretationen"
   ]
  }
 ],
 "metadata": {
  "hide_input": false,
  "kernelspec": {
   "display_name": "Python 3",
   "language": "python",
   "name": "python3"
  },
  "language_info": {
   "codemirror_mode": {
    "name": "ipython",
    "version": 3
   },
   "file_extension": ".py",
   "mimetype": "text/x-python",
   "name": "python",
   "nbconvert_exporter": "python",
   "pygments_lexer": "ipython3",
   "version": "3.5.1"
  },
  "nbTranslate": {
   "displayLangs": [
    "en",
    "de"
   ],
   "hotkey": "alt-t",
   "langInMainMenu": true,
   "sourceLang": "de",
   "targetLang": "en",
   "useGoogleTranslate": true
  },
  "toc": {
   "colors": {
    "hover_highlight": "#DAA520",
    "running_highlight": "#FF0000",
    "selected_highlight": "#FFD700"
   },
   "moveMenuLeft": true,
   "nav_menu": {
    "height": "12px",
    "width": "252px"
   },
   "navigate_menu": true,
   "number_sections": true,
   "sideBar": true,
   "threshold": 4,
   "toc_cell": false,
   "toc_section_display": "block",
   "toc_window_display": false,
   "widenNotebook": false
  }
 },
 "nbformat": 4,
 "nbformat_minor": 2
}
