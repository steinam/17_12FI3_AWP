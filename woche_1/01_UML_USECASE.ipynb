{
 "cells": [
  {
   "cell_type": "markdown",
   "metadata": {},
   "source": [
    "# Use-Case-Diagramm"
   ]
  },
  {
   "cell_type": "markdown",
   "metadata": {},
   "source": [
    "Die Frage *\"Was soll mein geplantes System eigentlich leisten* sollte am Beginn jeder Systementwicklung stehen. Das Use-Case-Diagramm zeigt das externe Verhalten eines Systems aus der Sicht der Nutzer.\n",
    "\n",
    "Das Ziel jedes Softwareentwicklungsprozesses ist es, eine Software zu entwickeln, die ganz bestimmte Anforderungen erfüllt. Die Entwicklung einer Software fängt mit der Zielsetzung an: Die Software soll, wenn fertiggestellt, die zu Beginn des Entwicklungsprozesses festgelegten Anforderungen/Ziele erfüllen.\n",
    "\n",
    "Aufgabe des Use-Case-Diagramms ist es, \n",
    "\n",
    "- eine grobe Ordnung in die vielen zum Teil sehr detaillierten Anforderungen zu bringen.  \n",
    "- einen Überblick über das verschaffen, was die zu entwickelnde Software eigentlich im Wesentlichen können muss. \n",
    "- wichtige Funktionen der Software herauszuarbeiten und zueinander in Beziehung zu setzen. \n",
    "- Die technische Implementierung spielt bei diesem Überblick keine Rolle"
   ]
  },
  {
   "cell_type": "markdown",
   "metadata": {},
   "source": [
    "Das Use-Case-Diagramm verfügt über folgende Notationselemente:\n",
    "\n",
    "- UseCase\n",
    "- System\n",
    "- Akteur\n",
    "- includes-Beziehung\n",
    "- extends-Beziehung\n",
    "- Vererbung-Beziehung\n",
    "\n",
    "<img style=\"float: left;\" src=\"uml/image/use_case_ueberblick.png\">"
   ]
  },
  {
   "cell_type": "markdown",
   "metadata": {},
   "source": [
    "## UseCase\n",
    "\n",
    "<img style=\"float: left;\" src=\"uml/image/use_case.png\">\n",
    "\n",
    "\n",
    "Der Anwendngsfall ist der zentrale Bestandteil. Er beschreibt die Funktionalität aus der Nutzersicht. UseCases können miteinander über includes oder extends - Beziehungen verbunden sein.\n",
    "\n"
   ]
  },
  {
   "cell_type": "markdown",
   "metadata": {},
   "source": [
    "## Akteur\n",
    "\n",
    "\n",
    "<img src=\"uml/image/akteur.png\" style=\"float: left;\" >\n",
    "\n",
    "Der Akteuer spielt die externe Rolle wieder, die mit dem System arbeiten will. Sie definiert dafür die UseCases.\n",
    "\n",
    "\n",
    "\n",
    "\n"
   ]
  },
  {
   "cell_type": "markdown",
   "metadata": {},
   "source": [
    "\n",
    "## Beziehungen\n",
    "\n",
    "Akteure nutzen Anwendungsfälle. Sie werden durch Linien dargestellt. Ein Anwendungsfall muss immer über einen direkten bzw. indirekten Weg mit einem Akteur verbunden sein.\n",
    "Vererbungsbeziehungen können auch zwischen Akteuren existieren\n",
    "\n",
    "\n",
    "<img style=\"float: left;\" src=\"uml/image/akteur_usecase.png\">\n"
   ]
  },
  {
   "cell_type": "markdown",
   "metadata": {},
   "source": [
    "\n",
    "### includes\n",
    "\n",
    "\n",
    "<img style=\"float: left;\" src=\"uml/image/include.png\">\n"
   ]
  },
  {
   "cell_type": "markdown",
   "metadata": {},
   "source": [
    "\n",
    "### extends\n",
    "\n",
    "<img style=\"float: left;\" src=\"uml/image/extends.png\">\n"
   ]
  },
  {
   "cell_type": "markdown",
   "metadata": {},
   "source": [
    "### vererben"
   ]
  }
 ],
 "metadata": {
  "hide_input": false,
  "kernelspec": {
   "display_name": "Python 3",
   "language": "python",
   "name": "python3"
  },
  "language_info": {
   "codemirror_mode": {
    "name": "ipython",
    "version": 3
   },
   "file_extension": ".py",
   "mimetype": "text/x-python",
   "name": "python",
   "nbconvert_exporter": "python",
   "pygments_lexer": "ipython3",
   "version": "3.5.1"
  },
  "nbTranslate": {
   "displayLangs": [
    "en",
    "de"
   ],
   "hotkey": "alt-t",
   "langInMainMenu": true,
   "sourceLang": "de",
   "targetLang": "en",
   "useGoogleTranslate": true
  },
  "toc": {
   "colors": {
    "hover_highlight": "#DAA520",
    "running_highlight": "#FF0000",
    "selected_highlight": "#FFD700"
   },
   "moveMenuLeft": true,
   "nav_menu": {
    "height": "12px",
    "width": "252px"
   },
   "navigate_menu": true,
   "number_sections": true,
   "sideBar": true,
   "threshold": 4,
   "toc_cell": false,
   "toc_section_display": "block",
   "toc_window_display": false,
   "widenNotebook": false
  }
 },
 "nbformat": 4,
 "nbformat_minor": 2
}
